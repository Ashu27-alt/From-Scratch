{
 "cells": [
  {
   "cell_type": "code",
   "execution_count": 1,
   "metadata": {},
   "outputs": [],
   "source": [
    "import pandas as pd\n",
    "import matplotlib.pyplot as plt\n",
    "import numpy as np"
   ]
  },
  {
   "cell_type": "code",
   "execution_count": 2,
   "metadata": {},
   "outputs": [],
   "source": [
    "def lossFunction(m,b,points):\n",
    "    totalError = 0\n",
    "    for i in range(points.__len__()):\n",
    "        x = points.iloc[i].YearsExperience\n",
    "        y = points.iloc[i].Salary\n",
    "        totalError += (y-(m*x+b))**2\n",
    "    return totalError/float(len(points))"
   ]
  },
  {
   "cell_type": "code",
   "execution_count": 3,
   "metadata": {},
   "outputs": [],
   "source": [
    "def gradient_Deecent(m_now,b_now,points,alpha=0.01):\n",
    "    n = len(points)\n",
    "    m = m_now\n",
    "    b = b_now\n",
    "    grad_m = 0\n",
    "    grad_b = 0\n",
    "    for i in range(n):\n",
    "        x = points.iloc[i].YearsExperience\n",
    "        y = points.iloc[i].Salary\n",
    "        grad_m += -(2/n)*x*(y-(m*x+b))\n",
    "        grad_b += -(2/n)*(y-(m*x+b))\n",
    "        m -= alpha*grad_m\n",
    "        b -= alpha*grad_b\n",
    "    return m,b"
   ]
  },
  {
   "cell_type": "code",
   "execution_count": 4,
   "metadata": {},
   "outputs": [],
   "source": [
    "class LinearRegressor():\n",
    "    def fit(self,points):\n",
    "        m = 0\n",
    "        b = 0\n",
    "        for i in range(1000):\n",
    "            m,b = gradient_Deecent(m,b,points)\n",
    "        self.m = m\n",
    "        self.b = b\n",
    "\n",
    "    def predict(self,x):\n",
    "        return self.m*x+self.b"
   ]
  },
  {
   "cell_type": "code",
   "execution_count": 5,
   "metadata": {},
   "outputs": [],
   "source": [
    "class LinearRegressor_closed():\n",
    "    def fit_closed(self,points):\n",
    "        coeff = []\n",
    "        X = points.iloc[:, :-1]\n",
    "        y = points.iloc[:, -1]\n",
    "\n",
    "        X = np.hstack([np.ones((X.shape[0], 1)), np.array(X)])\n",
    "        y = np.array(y)\n",
    "        \n",
    "        X_Transpose = X.T\n",
    "        X_T_X = np.dot(X_Transpose,X)\n",
    "        X_T_Y = np.dot(X_Transpose,y)\n",
    "        w = np.linalg.solve(X_T_X,X_T_Y)\n",
    "        self.b = w[0]\n",
    "        self.m = w[1:]\n",
    "        return w\n",
    "    \n",
    "    def predict_close(self, x):\n",
    "        res = []\n",
    "        for i in range(len(x)):\n",
    "            res.append(np.dot(self.m,x[i])+self.b)\n",
    "        res = np.array(res)\n",
    "        return res\n",
    "    \n",
    "    \"\"\" def score(self,training,test): \"\"\""
   ]
  },
  {
   "cell_type": "code",
   "execution_count": 6,
   "metadata": {},
   "outputs": [
    {
     "name": "stdout",
     "output_type": "stream",
     "text": [
      "[9312.57512673] 26780.099150628208\n",
      "[[ 40748.96  37731.  ]\n",
      " [122699.62 122391.  ]\n",
      " [ 64961.66  57081.  ]\n",
      " [ 63099.14  63218.  ]\n",
      " [115249.56 116969.  ]\n",
      " [107799.5  109431.  ]]\n"
     ]
    }
   ],
   "source": [
    "dataset = pd.read_csv('Salary_Data.csv')\n",
    "lr = LinearRegressor_closed()\n",
    "\n",
    "from sklearn.model_selection import train_test_split\n",
    "\n",
    "X_train, X_test, y_train, y_test = train_test_split(dataset.iloc[:, :-1].values, dataset.iloc[:, -1].values, test_size = 0.2, random_state = 0)\n",
    "\n",
    "training_data = pd.concat([pd.DataFrame(X_train), pd.DataFrame(y_train)], axis=1)\n",
    "\n",
    "w = lr.fit_closed(training_data)\n",
    "print(lr.m,lr.b)\n",
    "y_pred = lr.predict_close(X_test)\n",
    "np.set_printoptions(precision=2)\n",
    "print(np.concatenate((y_pred.reshape(len(y_pred),1), np.array(y_test).reshape(len(y_test),1)),1))"
   ]
  }
 ],
 "metadata": {
  "kernelspec": {
   "display_name": "course",
   "language": "python",
   "name": "python3"
  },
  "language_info": {
   "codemirror_mode": {
    "name": "ipython",
    "version": 3
   },
   "file_extension": ".py",
   "mimetype": "text/x-python",
   "name": "python",
   "nbconvert_exporter": "python",
   "pygments_lexer": "ipython3",
   "version": "3.13.3"
  }
 },
 "nbformat": 4,
 "nbformat_minor": 2
}
